{
 "cells": [
  {
   "cell_type": "markdown",
   "metadata": {},
   "source": [
    "# Instructions:\n",
    "The objective of these practical exercises is to familiarise yourself with Jupyter or Spyder and write basic Python programs. "
   ]
  },
  {
   "cell_type": "markdown",
   "metadata": {},
   "source": [
    "## Use Python in Script Mode\n",
    "\n",
    "1. Using script mode write a program that will output the text “Hello There” to screen\n",
    "\n",
    "2. Create a String variable to store your name and an int variable to store your age. Print this out to screen using the Script mode. \n",
    "\n",
    "3.\tWrite a program that asks the user to enter a distance in kilometres and then converts that distance to miles (Miles = Kilometres * 0.6214).\n",
    "\n",
    "4.\tWrite a program that will ask a student for their first name and then for their surname. It should then ask the student to enter the int numerical grade they received in each of their three subjects.  The program should then print out the full name of the student along with their average numerical grade (Use only a single print statement)\n",
    "\n",
    "5.\tWrite a program to calculate and display a person’s body mass index (BMI). A persons BMI is calculated with the following formula:\n",
    "\n",
    "    •\tBMI = (weight/ height2  ) * 703 \n",
    "\n",
    "    Where weight in in pounds and height in in inches. Your program should ask the user for their weight (in pounds) and height (in inches). \n",
    "\n",
    "6.\tThere are three seating categories at a stadium. For a football games, Class A seat’s cost €25, Class B seat’s cost €20 and Class C seat’s cost €30. Write a program that asks how many tickets for each class of seats were sold, and then display the amount of income generated from ticket sales."
   ]
  },
  {
   "cell_type": "code",
   "execution_count": 1,
   "metadata": {},
   "outputs": [
    {
     "name": "stdout",
     "output_type": "stream",
     "text": [
      "Hello There\n"
     ]
    }
   ],
   "source": [
    "print(\"Hello There\")"
   ]
  },
  {
   "cell_type": "code",
   "execution_count": 2,
   "metadata": {},
   "outputs": [
    {
     "name": "stdout",
     "output_type": "stream",
     "text": [
      "Ming Xuan 21\n"
     ]
    }
   ],
   "source": [
    "name=\"Ming Xuan\" \n",
    "age=21\n",
    "print(name, age)"
   ]
  },
  {
   "cell_type": "code",
   "execution_count": 6,
   "metadata": {},
   "outputs": [
    {
     "name": "stdout",
     "output_type": "stream",
     "text": [
      "Please enter a Number in KM: 30\n",
      "Your Result in Miles is :  18\n"
     ]
    }
   ],
   "source": [
    "input1=int(input(\"Please enter a Number in KM: \"))\n",
    "result=int((input1 * 0.6214))\n",
    "print(\"Your Result in Miles is : \" , result)"
   ]
  },
  {
   "cell_type": "code",
   "execution_count": 10,
   "metadata": {},
   "outputs": [
    {
     "name": "stdout",
     "output_type": "stream",
     "text": [
      "Please enter your first name: dsadas\n",
      "Please enter your last name: sdasd\n",
      "Please enter your Math Score: 30\n",
      "Please enter your English Score: 21\n",
      "Please enter your History Score: 2\n",
      "\n",
      " dsadas sdasd \n",
      " Average Score:  17.666666666666668\n"
     ]
    }
   ],
   "source": [
    "firstname=input(\"Please enter your first name: \")\n",
    "lastname=input(\"Please enter your last name: \")\n",
    "grade1=int(input(\"Please enter your Math Score: \"))\n",
    "grade2=int(input(\"Please enter your English Score: \"))\n",
    "grade3=int(input(\"Please enter your History Score: \"))\n",
    "avg=((grade1 + grade2 + grade3)/3)\n",
    "\n",
    "print(\"\\n\",firstname, lastname, \"\\n\", \"Average Score: \", avg)"
   ]
  },
  {
   "cell_type": "code",
   "execution_count": 17,
   "metadata": {},
   "outputs": [
    {
     "name": "stdout",
     "output_type": "stream",
     "text": [
      "Please enter your Weight: 65\n",
      "Please enter your height: 171\n",
      "Your BMI is:  22.229061933586404\n"
     ]
    }
   ],
   "source": [
    "weight=int(input(\"Please enter your Weight: \"))\n",
    "height=int(input(\"Please enter your height: \"))\n",
    "\n",
    "BMI = weight / (height/100)**2\n",
    "print(\"Your BMI is: \", BMI)"
   ]
  },
  {
   "cell_type": "code",
   "execution_count": 18,
   "metadata": {},
   "outputs": [
    {
     "name": "stdout",
     "output_type": "stream",
     "text": [
      "Please insert how many ticket you wanted to purchase for each class \n",
      "For class A: 2\n",
      "For class B: 4\n",
      "For class C: 3\n",
      "Sales\n",
      " Class A:  50 \n",
      " Class B:  80 \n",
      " Class C:  90 \n",
      "Total:  220\n"
     ]
    }
   ],
   "source": [
    "print(\"Please insert how many ticket you wanted to purchase for each class \")\n",
    "Aclass=int(input(\"For class A: \"))\n",
    "Bclass=int(input(\"For class B: \"))\n",
    "Cclass=int(input(\"For class C: \"))\n",
    "\n",
    "tem1=Aclass*25\n",
    "tem2=Bclass*20\n",
    "tem3=Cclass*30\n",
    "\n",
    "total = tem1 + tem2 + tem3\n",
    "\n",
    "print(\"Sales\\n\" , \"Class A: \", tem1, \"\\n\", \"Class B: \", tem2, \"\\n\", \"Class C: \", tem3, \"\\nTotal: \", total)"
   ]
  },
  {
   "cell_type": "code",
   "execution_count": null,
   "metadata": {},
   "outputs": [],
   "source": []
  }
 ],
 "metadata": {
  "kernelspec": {
   "display_name": "Python 3 (ipykernel)",
   "language": "python",
   "name": "python3"
  },
  "language_info": {
   "codemirror_mode": {
    "name": "ipython",
    "version": 3
   },
   "file_extension": ".py",
   "mimetype": "text/x-python",
   "name": "python",
   "nbconvert_exporter": "python",
   "pygments_lexer": "ipython3",
   "version": "3.10.9"
  }
 },
 "nbformat": 4,
 "nbformat_minor": 1
}

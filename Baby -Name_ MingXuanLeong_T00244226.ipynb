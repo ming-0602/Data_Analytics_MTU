{
 "cells": [
  {
   "cell_type": "markdown",
   "metadata": {},
   "source": [
    "# US Baby Names 1880-2010"
   ]
  },
  {
   "cell_type": "markdown",
   "metadata": {},
   "source": [
    "The baby names datasets are contained in the acompanying folder ./names (or [download here](http://www.ssa.gov/oact/babynames/limits.html)) they contain a list of the most frequent names given to newborn babies in the United States each year.\n",
    "There are many things you might want to do with the dataset:\n",
    "\n",
    "* Visualize the proportion of babies given a particular name (your own, or another name) over time.\n",
    "* Determine the relative rank of a name.\n",
    "* Determine the most popular names in each year or the names with largest increases or decreases.\n",
    "* Analyze trends in names: vowels, consonants, length, overall diversity, changes in spelling, first and last letters.\n",
    "* Analyze external sources of trends: biblical names, celebrities, demographic changes.\n",
    "\n",
    "In this exercise you are tasked with undertaking some analysis. I have started some of the steps for you and I have given some tips on what methods to use.\n"
   ]
  },
  {
   "cell_type": "markdown",
   "metadata": {},
   "source": [
    "## Task 1: Import Data"
   ]
  },
  {
   "cell_type": "markdown",
   "metadata": {},
   "source": [
    "As with most analysis we will need to import some libraries. For this analyis we want to reading the data, perform analysis and visualise the data. therefore the Pandas and matplotlib libraries are needed."
   ]
  },
  {
   "cell_type": "code",
   "execution_count": 8,
   "metadata": {
    "trusted": true
   },
   "outputs": [
    {
     "name": "stdout",
     "output_type": "stream",
     "text": [
      "            Appear\n",
      "count  2000.000000\n",
      "mean    100.742000\n",
      "std     466.108304\n",
      "min       5.000000\n",
      "25%       7.000000\n",
      "50%      13.000000\n",
      "75%      41.250000\n",
      "max    9655.000000\n"
     ]
    }
   ],
   "source": [
    "import pandas as pd\n",
    "import matplotlib as mp\n"
   ]
  },
  {
   "cell_type": "markdown",
   "metadata": {},
   "source": [
    "First open a single file 1880 set the field headings to'name', 'sex', 'births' (hint use the pandas read_csv method)"
   ]
  },
  {
   "cell_type": "code",
   "execution_count": 27,
   "metadata": {
    "trusted": true
   },
   "outputs": [
    {
     "name": "stdout",
     "output_type": "stream",
     "text": [
      "           name sex  births\n",
      "0          Mary   F    7065\n",
      "1          Anna   F    2604\n",
      "2          Emma   F    2003\n",
      "3     Elizabeth   F    1939\n",
      "4        Minnie   F    1746\n",
      "...         ...  ..     ...\n",
      "1995     Woodie   M       5\n",
      "1996     Worthy   M       5\n",
      "1997     Wright   M       5\n",
      "1998       York   M       5\n",
      "1999  Zachariah   M       5\n",
      "\n",
      "[2000 rows x 3 columns]\n"
     ]
    }
   ],
   "source": [
    "\n",
    "\n",
    "filename = 'names/yob1880.txt' \n",
    "\n",
    "names = ['name', 'sex', 'births' ]\n",
    "data = pd.read_csv(filename, names=names)\n",
    "\n",
    "print(data)"
   ]
  },
  {
   "cell_type": "markdown",
   "metadata": {},
   "source": [
    "Now display the top 5 rows"
   ]
  },
  {
   "cell_type": "code",
   "execution_count": 26,
   "metadata": {
    "trusted": true
   },
   "outputs": [
    {
     "name": "stdout",
     "output_type": "stream",
     "text": [
      "        name sex  births\n",
      "0       Mary   F    7065\n",
      "1       Anna   F    2604\n",
      "2       Emma   F    2003\n",
      "3  Elizabeth   F    1939\n",
      "4     Minnie   F    1746\n"
     ]
    }
   ],
   "source": [
    "\n",
    "\n",
    "print(data.head(5))"
   ]
  },
  {
   "cell_type": "markdown",
   "metadata": {},
   "source": [
    "Often datasets span more than one file. \n",
    "\n",
    "In this example each year is in a seperate file, we need to combines all of this year data into a single pandas DataFrame and add a *year* field. Note that all .txt files must be stored as *./names*.\n",
    "\n",
    "This is a little challenging so I have completed this task below, make sure you understand how the code below operates."
   ]
  },
  {
   "cell_type": "code",
   "execution_count": 3,
   "metadata": {
    "trusted": true
   },
   "outputs": [],
   "source": [
    "years = range(1880, 2013)\n",
    "pieces = []\n",
    "columns = ['name', 'sex', 'births']\n",
    "\n",
    "for year in years:\n",
    "    path = 'names/yob%d.txt' % year\n",
    "    frame = pd.read_csv(path, names=columns)\n",
    "    frame['year'] = year\n",
    "    pieces.append(frame)\n",
    "\n",
    "# Concatenate everything into a single DataFrame\n",
    "names = pd.concat(pieces, ignore_index=True)\n"
   ]
  },
  {
   "cell_type": "markdown",
   "metadata": {},
   "source": [
    "Now display the first 5 records from the combined dataframe"
   ]
  },
  {
   "cell_type": "code",
   "execution_count": 25,
   "metadata": {
    "trusted": true
   },
   "outputs": [
    {
     "name": "stdout",
     "output_type": "stream",
     "text": [
      "        name sex  births  year\n",
      "0       Mary   F    7065  1880\n",
      "1       Anna   F    2604  1880\n",
      "2       Emma   F    2003  1880\n",
      "3  Elizabeth   F    1939  1880\n",
      "4     Minnie   F    1746  1880\n"
     ]
    }
   ],
   "source": [
    "\n",
    "\n",
    "print(names.head(5))\n"
   ]
  },
  {
   "cell_type": "markdown",
   "metadata": {},
   "source": [
    "## Task 2: Descriptive Statistics\n",
    "\n",
    "Descriptive statistics can give you great insight into the properties of each attribute. Often you can create more summaries than you have time to review. \n",
    "\n",
    "Display the following summary statistics.\n",
    "\n",
    "    Count.\n",
    "    Mean.\n",
    "    Standard Deviation.\n",
    "    Minimum Value.\n",
    "    25th Percentile.\n",
    "    50th Percentile (Median). 75th Percentile.\n",
    "    Maximum Value.\n",
    "\n"
   ]
  },
  {
   "cell_type": "code",
   "execution_count": 35,
   "metadata": {
    "trusted": true
   },
   "outputs": [
    {
     "name": "stdout",
     "output_type": "stream",
     "text": [
      "             births     year\n",
      "count  33732.000000  33732.0\n",
      "mean     108.219554   2012.0\n",
      "std      681.502472      0.0\n",
      "min        5.000000   2012.0\n",
      "25%        7.000000   2012.0\n",
      "50%       11.000000   2012.0\n",
      "75%       30.000000   2012.0\n",
      "max    22304.000000   2012.0\n"
     ]
    }
   ],
   "source": [
    "# Statistical Summary\n",
    "from pandas import read_csv\n",
    "from pandas import set_option\n",
    "\n",
    "years = range(1880, 2013)\n",
    "pieces = []\n",
    "columns = ['name', 'sex', 'births']\n",
    "\n",
    "for year in years:\n",
    "    path = 'names/yob%d.txt' % year\n",
    "    frame = pd.read_csv(path, names=columns)\n",
    "    frame['year'] = year\n",
    "    pieces.append(frame)\n",
    "\n",
    "# set_option('display.width', 100)\n",
    "# set_option('precision', 3)\n",
    "\n",
    "names = pd.concat(pieces, ignore_index=True)\n",
    "\n",
    "\n",
    "description = frame.describe()\n",
    "print(description)\n",
    "\n",
    "\n",
    "\n",
    "\n",
    "\n"
   ]
  },
  {
   "cell_type": "markdown",
   "metadata": {},
   "source": [
    "## Task 3: Data Aggregation"
   ]
  },
  {
   "cell_type": "markdown",
   "metadata": {},
   "source": [
    "We can now perform several types of aggregation. \n",
    "\n",
    "Create a new DataFrame containing the total number of births per year, split by sex. \n",
    "\n",
    "(Hint use the pivot_table method with the aggragate function sum property)"
   ]
  },
  {
   "cell_type": "code",
   "execution_count": 55,
   "metadata": {
    "trusted": true
   },
   "outputs": [
    {
     "name": "stdout",
     "output_type": "stream",
     "text": [
      "sex         F        M\n",
      "year                  \n",
      "1880    90993   110491\n",
      "1881    91953   100743\n",
      "1882   107847   113686\n",
      "1883   112319   104627\n",
      "1884   129020   114442\n",
      "...       ...      ...\n",
      "2008  1888607  2037751\n",
      "2009  1834599  1981039\n",
      "2010  1774758  1915942\n",
      "2011  1756004  1895910\n",
      "2012  1757328  1893134\n",
      "\n",
      "[133 rows x 2 columns]\n"
     ]
    }
   ],
   "source": [
    "\n",
    "table = names.pivot_table(index='year' ,columns='sex', values='births', aggfunc='sum' )\n",
    "print(table)"
   ]
  },
  {
   "cell_type": "markdown",
   "metadata": {},
   "source": [
    "Now display the first 5 records from the combined dataframe. Hint you can use the head() method."
   ]
  },
  {
   "cell_type": "code",
   "execution_count": 56,
   "metadata": {
    "trusted": true
   },
   "outputs": [
    {
     "name": "stdout",
     "output_type": "stream",
     "text": [
      "sex        F       M\n",
      "year                \n",
      "1880   90993  110491\n",
      "1881   91953  100743\n",
      "1882  107847  113686\n",
      "1883  112319  104627\n",
      "1884  129020  114442\n"
     ]
    }
   ],
   "source": [
    "print(table.head(5))"
   ]
  },
  {
   "cell_type": "markdown",
   "metadata": {},
   "source": [
    "## Task 4: Data Visualisation"
   ]
  },
  {
   "cell_type": "markdown",
   "metadata": {},
   "source": [
    "Using the *plot* function draw a figure to illustrate this DataFrame. \n",
    "\n",
    "Plot the genders in 2 seperate lines with year on the X axis and the number of births on the Y axis, Don't forget a title and axis labels."
   ]
  },
  {
   "cell_type": "code",
   "execution_count": 71,
   "metadata": {
    "trusted": true
   },
   "outputs": [
    {
     "data": {
      "text/plain": [
       "<Figure size 640x480 with 0 Axes>"
      ]
     },
     "metadata": {},
     "output_type": "display_data"
    },
    {
     "data": {
      "image/png": "[encoded data removed]",
      "text/plain": [
       "<Figure size 640x480 with 1 Axes>"
      ]
     },
     "metadata": {},
     "output_type": "display_data"
    }
   ],
   "source": [
    "from matplotlib import pyplot\n",
    "\n",
    "pyplot.figure()\n",
    "table = names.pivot_table(index='year' ,columns='sex', values='births', aggfunc='sum' )\n",
    "\n",
    "table.plot(kind='line')\n",
    "\n",
    "pyplot.xlabel('year')\n",
    "pyplot.ylabel('birth')\n",
    "pyplot.ticklabel_format(style='plain')\n",
    "\n",
    "\n",
    "\n",
    "\n"
   ]
  },
  {
   "cell_type": "markdown",
   "metadata": {},
   "source": [
    "## Task 5: More Data Aggregation"
   ]
  },
  {
   "cell_type": "markdown",
   "metadata": {},
   "source": [
    "Now we would like to analyse how frequently the names *John*, *Michael*, *Mary*, *Mark*,*Jeremy* and *Amelia* occurr over time."
   ]
  },
  {
   "cell_type": "markdown",
   "metadata": {},
   "source": [
    "Redefine *total_births*, this time aggregating data by *name* rather than *sex*.\n",
    "\n",
    "Then define the subset of names that we are interested\n",
    "\n",
    "Finally plot each name in its own graph."
   ]
  },
  {
   "cell_type": "code",
   "execution_count": 82,
   "metadata": {
    "trusted": true
   },
   "outputs": [
    {
     "name": "stdout",
     "output_type": "stream",
     "text": [
      "sex           F      M\n",
      "name                  \n",
      "Aaban       NaN   42.0\n",
      "Aabha      12.0    NaN\n",
      "Aabid       NaN    5.0\n",
      "Aabriella   5.0    NaN\n",
      "Aadam       NaN  161.0\n",
      "...         ...    ...\n",
      "Zytavion    NaN    5.0\n",
      "Zytavious   NaN   43.0\n",
      "Zyvion      NaN    5.0\n",
      "Zyyanna     6.0    NaN\n",
      "Zzyzx       NaN    5.0\n",
      "\n",
      "[91416 rows x 2 columns]\n"
     ]
    }
   ],
   "source": [
    "\n",
    "from pandas import read_csv\n",
    "from pandas import set_option\n",
    "from matplotlib import pyplot\n",
    "\n",
    "years = range(1880, 2013)\n",
    "pieces = []\n",
    "columns = ['name', 'sex', 'births']\n",
    "\n",
    "\n",
    "for year in years:\n",
    "    path = 'names/yob%d.txt' % year\n",
    "    frame = pd.read_csv(path, names=columns)\n",
    "    frame['year'] = year\n",
    "    pieces.append(frame)\n",
    "\n",
    "table = names.pivot_table(index='name' ,columns='sex', values='births', aggfunc='sum' )\n",
    "\n",
    "index = ['John', 'Michael', 'Mary', 'Mark', 'Jeremy', 'Amelia']\n",
    "# table.loc['John', 'names']\n",
    "\n",
    "print(table)\n",
    "\n",
    "\n",
    "\n",
    "\n",
    "\n",
    "\n",
    "\n"
   ]
  },
  {
   "cell_type": "markdown",
   "metadata": {},
   "source": [
    "## Task 6: Data Distrabution"
   ]
  },
  {
   "cell_type": "markdown",
   "metadata": {},
   "source": [
    "Next we need to look at how the distribution of boy names by final letter has changed over the last 100 years. \n",
    "\n",
    "To see this, first aggregate all of the births in the full dataset by year, sex, and final letter.\n",
    "\n",
    "(This is a bit tricky so I have done some of the difficult bits)"
   ]
  },
  {
   "cell_type": "code",
   "execution_count": 10,
   "metadata": {
    "trusted": true
   },
   "outputs": [],
   "source": [
    "# extract last letter from name column\n",
    "get_last_letter = lambda x: x[-1]\n",
    "last_letters = names.name.map(get_last_letter)\n",
    "last_letters.name = 'last_letter'\n",
    "table = names.pivot_table('births',last_letters,['sex', 'year'], aggfunc=sum)\n"
   ]
  },
  {
   "cell_type": "markdown",
   "metadata": {},
   "source": [
    "Then we select a few representative years 1912, 1962, 2012, spanning 100 years in total, display the first 5 records in a table:\n",
    "\n",
    "(Hint: use the reindex method https://pandas.pydata.org/pandas-docs/stable/reference/api/pandas.DataFrame.reindex.html)"
   ]
  },
  {
   "cell_type": "code",
   "execution_count": null,
   "metadata": {
    "trusted": true
   },
   "outputs": [],
   "source": []
  },
  {
   "cell_type": "markdown",
   "metadata": {},
   "source": [
    "Now, we normalize the table by the number of births, so as to obtain the proportion of total births for each sex ending in each letter: \n",
    "\n",
    "There are functions in python for normalisation but we haven't covered them yet. Here we will just simply divide each value by the aggragated sum for that table. i.e. divide each subtable by the total "
   ]
  },
  {
   "cell_type": "code",
   "execution_count": 12,
   "metadata": {
    "trusted": true
   },
   "outputs": [
    {
     "data": {
      "text/html": [
       "<div>\n",
       "<style scoped>\n",
       "    .dataframe tbody tr th:only-of-type {\n",
       "        vertical-align: middle;\n",
       "    }\n",
       "\n",
       "    .dataframe tbody tr th {\n",
       "        vertical-align: top;\n",
       "    }\n",
       "\n",
       "    .dataframe thead tr th {\n",
       "        text-align: left;\n",
       "    }\n",
       "\n",
       "    .dataframe thead tr:last-of-type th {\n",
       "        text-align: right;\n",
       "    }\n",
       "</style>\n",
       "<table border=\"1\" class=\"dataframe\">\n",
       "  <thead>\n",
       "    <tr>\n",
       "      <th>sex</th>\n",
       "      <th colspan=\"3\" halign=\"left\">F</th>\n",
       "      <th colspan=\"3\" halign=\"left\">M</th>\n",
       "    </tr>\n",
       "    <tr>\n",
       "      <th>year</th>\n",
       "      <th>1912</th>\n",
       "      <th>1962</th>\n",
       "      <th>2012</th>\n",
       "      <th>1912</th>\n",
       "      <th>1962</th>\n",
       "      <th>2012</th>\n",
       "    </tr>\n",
       "    <tr>\n",
       "      <th>last_letter</th>\n",
       "      <th></th>\n",
       "      <th></th>\n",
       "      <th></th>\n",
       "      <th></th>\n",
       "      <th></th>\n",
       "      <th></th>\n",
       "    </tr>\n",
       "  </thead>\n",
       "  <tbody>\n",
       "    <tr>\n",
       "      <th>a</th>\n",
       "      <td>0.267288</td>\n",
       "      <td>0.347073</td>\n",
       "      <td>0.372450</td>\n",
       "      <td>0.003849</td>\n",
       "      <td>0.002577</td>\n",
       "      <td>0.014368</td>\n",
       "    </tr>\n",
       "    <tr>\n",
       "      <th>b</th>\n",
       "      <td>NaN</td>\n",
       "      <td>0.000233</td>\n",
       "      <td>0.000268</td>\n",
       "      <td>0.002147</td>\n",
       "      <td>0.001672</td>\n",
       "      <td>0.018333</td>\n",
       "    </tr>\n",
       "    <tr>\n",
       "      <th>c</th>\n",
       "      <td>NaN</td>\n",
       "      <td>0.000037</td>\n",
       "      <td>0.000703</td>\n",
       "      <td>0.002449</td>\n",
       "      <td>0.008644</td>\n",
       "      <td>0.012819</td>\n",
       "    </tr>\n",
       "    <tr>\n",
       "      <th>d</th>\n",
       "      <td>0.018854</td>\n",
       "      <td>0.001868</td>\n",
       "      <td>0.001440</td>\n",
       "      <td>0.125806</td>\n",
       "      <td>0.120849</td>\n",
       "      <td>0.022427</td>\n",
       "    </tr>\n",
       "    <tr>\n",
       "      <th>e</th>\n",
       "      <td>0.323448</td>\n",
       "      <td>0.215983</td>\n",
       "      <td>0.182395</td>\n",
       "      <td>0.127262</td>\n",
       "      <td>0.079738</td>\n",
       "      <td>0.067840</td>\n",
       "    </tr>\n",
       "  </tbody>\n",
       "</table>\n",
       "</div>"
      ],
      "text/plain": [
       "sex                 F                             M                    \n",
       "year             1912      1962      2012      1912      1962      2012\n",
       "last_letter                                                            \n",
       "a            0.267288  0.347073  0.372450  0.003849  0.002577  0.014368\n",
       "b                 NaN  0.000233  0.000268  0.002147  0.001672  0.018333\n",
       "c                 NaN  0.000037  0.000703  0.002449  0.008644  0.012819\n",
       "d            0.018854  0.001868  0.001440  0.125806  0.120849  0.022427\n",
       "e            0.323448  0.215983  0.182395  0.127262  0.079738  0.067840"
      ]
     },
     "execution_count": 12,
     "metadata": {},
     "output_type": "execute_result"
    }
   ],
   "source": [
    "letter_prop = subtable / subtable.sum().astype(float)\n",
    "letter_prop.head()"
   ]
  },
  {
   "cell_type": "markdown",
   "metadata": {},
   "source": [
    "Finally make <b>bar plots</b> for each sex broken-down by year\n"
   ]
  },
  {
   "cell_type": "code",
   "execution_count": 13,
   "metadata": {
    "trusted": true
   },
   "outputs": [
    {
     "data": {
      "text/plain": [
       "<matplotlib.axes._subplots.AxesSubplot at 0x7f5cd89afeb8>"
      ]
     },
     "execution_count": 13,
     "metadata": {},
     "output_type": "execute_result"
    },
    {
     "data": {
      "image/png": "[encoded data removed]",
      "text/plain": [
       "<Figure size 792x720 with 2 Axes>"
      ]
     },
     "metadata": {
      "needs_background": "light"
     },
     "output_type": "display_data"
    }
   ],
   "source": [
    "fig, axes = plt.subplots(2, 1, figsize=(11, 10))\n",
    "letter_prop['M'].plot(kind='bar', rot=0, ax=axes[0], title='Male')\n",
    "letter_prop['F'].plot(kind='bar', rot=0, ax=axes[1], title='Female',legend=False)\n"
   ]
  }
 ],
 "metadata": {
  "kernelspec": {
   "display_name": "Python 3",
   "language": "python",
   "name": "python3"
  },
  "language_info": {
   "codemirror_mode": {
    "name": "ipython",
    "version": 3
   },
   "file_extension": ".py",
   "mimetype": "text/x-python",
   "name": "python",
   "nbconvert_exporter": "python",
   "pygments_lexer": "ipython3",
   "version": "3.11.3"
  }
 },
 "nbformat": 4,
 "nbformat_minor": 1
}
